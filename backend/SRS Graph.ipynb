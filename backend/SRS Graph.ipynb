{
 "cells": [
  {
   "cell_type": "code",
   "execution_count": 1,
   "id": "1ce85c81-f187-4674-9137-01baeb835852",
   "metadata": {
    "slideshow": {
     "slide_type": "skip"
    },
    "tags": []
   },
   "outputs": [],
   "source": [
    "from modules.srs import DefaultCollections\n",
    "from modules.srs.scheduler import V1\n",
    "\n",
    "user_collection = DefaultCollections.get(\"GuitarStandard\")\n",
    "user_collection.set_active_track('String 2')"
   ]
  },
  {
   "cell_type": "code",
   "execution_count": 2,
   "id": "556e9ebb-0938-4e12-8a13-98ab5ab2d7f3",
   "metadata": {
    "slideshow": {
     "slide_type": "skip"
    },
    "tags": []
   },
   "outputs": [
    {
     "data": {
      "text/plain": [
       "[OrderedReviewItem(\n",
       " \titem=B₃,\n",
       " \tdue_date=2023-02-20 19:18:09.174678+00:00\n",
       " ),\n",
       " OrderedReviewItem(\n",
       " \titem=C₄,\n",
       " \tdue_date=2023-02-20 19:18:15.037133+00:00\n",
       " ),\n",
       " OrderedReviewItem(\n",
       " \titem=C₄♯,\n",
       " \tdue_date=2023-02-20 19:18:11.355797+00:00\n",
       " )]"
      ]
     },
     "execution_count": 2,
     "metadata": {},
     "output_type": "execute_result"
    }
   ],
   "source": [
    "scheduler = V1\n",
    "\n",
    "reviewing_queue = scheduler.generate_reviewing_queue(user_collection)\n",
    "reviewing_queue"
   ]
  },
  {
   "cell_type": "markdown",
   "id": "74a2b023-4b24-404d-a577-7ab6bceba6d2",
   "metadata": {
    "slideshow": {
     "slide_type": "slide"
    },
    "tags": []
   },
   "source": [
    "# Application Server - Game Logic\n",
    "\n",
    "Management of which notes the user should play, at any given time."
   ]
  },
  {
   "cell_type": "markdown",
   "id": "8f3b8942-134a-4960-a1c1-77cd8798229a",
   "metadata": {
    "slideshow": {
     "slide_type": "slide"
    },
    "tags": []
   },
   "source": [
    "# Spaced Repetition Crash Course\n",
    "\n",
    "The basis of the game logic seeks to utilize psychology to maximize learning potential"
   ]
  },
  {
   "cell_type": "markdown",
   "id": "0f3a9db3-7dad-4a38-b73c-9630eb0132fd",
   "metadata": {
    "slideshow": {
     "slide_type": "subslide"
    },
    "tags": []
   },
   "source": [
    "## Spacing Effect\n",
    "- Psychological phenomenon first studied in 1885, later studies have replicated it\n",
    "- Conclusion: things (notes, concepts, ideas, memories, etc) reviewed in increasingly increasing intervals tend to be remembered more\n",
    "- Reviewing a thing after 1 day, then 2 days, then 4 days tends to encode the thing in memory better long-term than reviewing a topic every day."
   ]
  },
  {
   "cell_type": "markdown",
   "id": "27e11d18-ac43-444e-b4cb-081ebc51a70c",
   "metadata": {
    "slideshow": {
     "slide_type": "subslide"
    },
    "tags": []
   },
   "source": [
    "## Forgetting Curve\n",
    "- The rate of forgetting of a particular memory\n",
    "- Found along similar research in the spacing effect (almost a natural conclusion of it)\n",
    "- Generally follows an exponential decay function, where the probability of remembering falls off exponentially as time goes on\n",
    "\n",
    "<div align=\"center\">\n",
    "    <img src=\"https://upload.wikimedia.org/wikipedia/commons/4/42/Forgetting_curve_decline.svg\" height=\"300px\"/>\n",
    "</div>"
   ]
  },
  {
   "cell_type": "markdown",
   "id": "e2d154c5-e31a-497b-b050-e6d0243c4335",
   "metadata": {
    "slideshow": {
     "slide_type": "subslide"
    },
    "tags": []
   },
   "source": [
    "## Combining the two - A spaced repetition system (SRS)\n",
    "- These two ideas can be combined to form a system of learning that seeks to maximize recall while minimizing work required to maintain said recall\n",
    "- If user has periodic \"review\" sessions, where they review items that are due, this can be the start of an SRS system\n",
    "- Determining when items are due are based on the findings of the spacing effect and forgetting curve, scheduling items to be due in exponentially increasing intervals (with some exceptions)"
   ]
  },
  {
   "cell_type": "markdown",
   "id": "428fda6c-4648-4980-bff5-59a790f12921",
   "metadata": {
    "slideshow": {
     "slide_type": "subslide"
    },
    "tags": []
   },
   "source": [
    "<div align=\"center\">\n",
    "    <img src=\"https://149664534.v2.pressablecdn.com/wp-content/uploads/2022/01/learning-v1-updated.png\"/>\n",
    "</div>"
   ]
  },
  {
   "cell_type": "markdown",
   "id": "c0e38adc-06c7-4ead-96c5-14c3710fc57c",
   "metadata": {
    "slideshow": {
     "slide_type": "fragment"
    },
    "tags": []
   },
   "source": []
  },
  {
   "cell_type": "markdown",
   "id": "3e1625eb-3e33-438f-8cd8-8967547379a2",
   "metadata": {
    "slideshow": {
     "slide_type": "slide"
    },
    "tags": []
   },
   "source": [
    "# Basic Interval Progression: A Perfect Learner\n",
    "\n",
    "When a user gets things correct, they see the same note less and less often."
   ]
  },
  {
   "cell_type": "code",
   "execution_count": 3,
   "id": "87cc1731-07a0-4902-8452-0dcc94475803",
   "metadata": {
    "slideshow": {
     "slide_type": "skip"
    },
    "tags": []
   },
   "outputs": [],
   "source": [
    "import pandas as pd\n",
    "import seaborn as sns\n",
    "import matplotlib.pyplot as plt\n",
    "import datetime\n",
    "\n",
    "from copy import deepcopy\n",
    "\n",
    "\n",
    "intervals = []\n",
    "x = list(range(9))"
   ]
  },
  {
   "cell_type": "code",
   "execution_count": 4,
   "id": "ee5935ab-21f9-414d-bc8d-8c564a3b4ba2",
   "metadata": {
    "slideshow": {
     "slide_type": "subslide"
    },
    "tags": []
   },
   "outputs": [
    {
     "name": "stdout",
     "output_type": "stream",
     "text": [
      "Item is learning\n",
      "Item was correct\n",
      "Item moved to next learning step\n",
      "Item is learning\n",
      "Item was correct\n",
      "Item moved to next learning step\n",
      "Item is learning\n",
      "Item was correct\n",
      "Item moved to next learning step\n",
      "Item is learning\n",
      "Item was correct\n",
      "Item moved to next learning step\n",
      "Item is learning\n",
      "Item was correct\n",
      "Item moved to next learning step\n",
      "Item is learning\n",
      "Item was correct\n",
      "Item graduated\n",
      "Item is reviewing\n",
      "SM-2 quality of 5\n",
      "Updating ease factor\n",
      "Item is reviewing\n",
      "SM-2 quality of 5\n",
      "Updating ease factor\n",
      "Item is reviewing\n",
      "SM-2 quality of 5\n",
      "Updating ease factor\n"
     ]
    }
   ],
   "source": [
    "test_item = deepcopy(\n",
    "    user_collection.get_active_track().review_items[0]\n",
    ")\n",
    "\n",
    "def perfect_learner(reps):\n",
    "    return 0\n",
    "\n",
    "for i in range(9):\n",
    "    interval = (\n",
    "        scheduler._calculate_interval(test_item)\n",
    "        / datetime.timedelta(hours=1)\n",
    "    )\n",
    "    intervals.append(interval)\n",
    "    scheduler.review(test_item, perfect_learner(i), 0)"
   ]
  },
  {
   "cell_type": "code",
   "execution_count": 5,
   "id": "81a9fc83-f6f8-4a26-be6e-ee49715e5c71",
   "metadata": {
    "slideshow": {
     "slide_type": "skip"
    },
    "tags": []
   },
   "outputs": [],
   "source": [
    "sns_df = pd.DataFrame.from_records([x, intervals]).T\n",
    "sns_df.columns = ['repetitions', 'interval (hours)']"
   ]
  },
  {
   "cell_type": "code",
   "execution_count": 6,
   "id": "b259595e-2026-4645-980c-164ece6af171",
   "metadata": {
    "slideshow": {
     "slide_type": "subslide"
    },
    "tags": []
   },
   "outputs": [
    {
     "data": {
      "image/png": "[encoded data removed]",
      "text/plain": [
       "<Figure size 640x480 with 1 Axes>"
      ]
     },
     "metadata": {},
     "output_type": "display_data"
    }
   ],
   "source": [
    "perfect_bar = sns.barplot(data=sns_df,\n",
    "                        x='repetitions',\n",
    "                        y='interval (hours)')\n",
    "_ = perfect_bar.set(yscale='log')"
   ]
  },
  {
   "cell_type": "code",
   "execution_count": 7,
   "id": "4f4a382b-4a31-432b-91c6-18bc12674367",
   "metadata": {
    "slideshow": {
     "slide_type": "subslide"
    },
    "tags": []
   },
   "outputs": [
    {
     "data": {
      "text/plain": [
       "[0.001388888888888889,\n",
       " 0.006944444444444444,\n",
       " 0.03333333333333333,\n",
       " 0.16666666666666666,\n",
       " 1.0,\n",
       " 5.0,\n",
       " 12.5,\n",
       " 32.5,\n",
       " 87.75]"
      ]
     },
     "execution_count": 7,
     "metadata": {},
     "output_type": "execute_result"
    }
   ],
   "source": [
    "intervals # in hours"
   ]
  },
  {
   "cell_type": "markdown",
   "id": "5ccd2367-79bb-4233-b94a-3176a6a00477",
   "metadata": {
    "slideshow": {
     "slide_type": "slide"
    },
    "tags": []
   },
   "source": [
    "# State Machine"
   ]
  },
  {
   "cell_type": "markdown",
   "id": "e8fb7748-98dd-46ac-8975-b78828ebb297",
   "metadata": {
    "slideshow": {
     "slide_type": "subslide"
    },
    "tags": []
   },
   "source": [
    "![FSM](./fsm.svg)"
   ]
  },
  {
   "cell_type": "code",
   "execution_count": 42,
   "id": "44e3b4b4-e5e1-4410-be8f-94c445ee84eb",
   "metadata": {
    "slideshow": {
     "slide_type": "skip"
    },
    "tags": []
   },
   "outputs": [],
   "source": [
    "import random\n",
    "from modules.srs import ReviewState\n",
    "\n",
    "test_item = deepcopy(user_collection.get_active_track().review_items[0])\n",
    "test_item\n",
    "\n",
    "n_reps = 37\n",
    "intervals = []\n",
    "states = []\n",
    "x = list(range(n_reps))"
   ]
  },
  {
   "cell_type": "code",
   "execution_count": 9,
   "id": "e04d895d-268d-4465-a17b-7ce128fb7cd4",
   "metadata": {
    "slideshow": {
     "slide_type": "subslide"
    },
    "tags": []
   },
   "outputs": [],
   "source": [
    "def learner_that_forgets(reps):\n",
    "    if reps == 30:\n",
    "        return 1 # autofail for rep 30\n",
    "    \n",
    "    # learner that tends to learn over time\n",
    "    # (choosing 1/incorrect with less reps)    \n",
    "    return random.choices(\n",
    "        [0, 1], \n",
    "        weights=[reps, max(20 - reps, 0)]\n",
    "    )[0]"
   ]
  },
  {
   "cell_type": "code",
   "execution_count": 43,
   "id": "c8a1644b-e64d-4a5e-9b08-56729198227e",
   "metadata": {
    "slideshow": {
     "slide_type": "skip"
    },
    "tags": []
   },
   "outputs": [],
   "source": [
    "for i in range(n_reps):\n",
    "    interval = scheduler._calculate_interval(test_item) / datetime.timedelta(hours=1)\n",
    "    intervals.append(interval)\n",
    "    states.append(test_item.state)\n",
    "    scheduler.review(test_item, learner_that_forgets(i), 0)\n",
    "\n",
    "sns_df = pd.DataFrame.from_records([x, intervals, states]).T\n",
    "sns_df.columns = ['repetitions', 'interval (hours)', 'state']"
   ]
  },
  {
   "cell_type": "code",
   "execution_count": 11,
   "id": "73144c0c-2cba-4a34-bce6-de45386dc3c5",
   "metadata": {
    "slideshow": {
     "slide_type": "subslide"
    },
    "tags": []
   },
   "outputs": [
    {
     "data": {
      "image/png": "[encoded data removed]",
      "text/plain": [
       "<Figure size 640x480 with 1 Axes>"
      ]
     },
     "metadata": {},
     "output_type": "display_data"
    }
   ],
   "source": [
    "bar = sns.barplot(\n",
    "    data=sns_df,\n",
    "    x='repetitions', y='interval (hours)',\n",
    "    hue='state'\n",
    ")\n",
    "_ = bar.set(yscale='log')"
   ]
  },
  {
   "cell_type": "markdown",
   "id": "7224380e-e5b7-431f-ac12-366722748834",
   "metadata": {
    "slideshow": {
     "slide_type": "slide"
    },
    "tags": []
   },
   "source": [
    "# Ease factor\n",
    "\n",
    "How the algorithm estimates item difficulty, and scales interval changes appropriately."
   ]
  },
  {
   "cell_type": "code",
   "execution_count": 40,
   "id": "eb2751b7-dfbc-4e33-93f8-59642b8ba7a9",
   "metadata": {
    "slideshow": {
     "slide_type": "skip"
    },
    "tags": []
   },
   "outputs": [],
   "source": [
    "import random\n",
    "from copy import deepcopy\n",
    "from modules.srs import ReviewState\n",
    "import datetime\n",
    "import pandas as pd\n",
    "import seaborn as sns\n",
    "\n",
    "test_item = deepcopy(user_collection.get_active_track().review_items[0])\n",
    "test_item\n",
    "\n",
    "n_reps = 70\n",
    "intervals = []\n",
    "states = []\n",
    "x = list(range(n_reps))"
   ]
  },
  {
   "cell_type": "code",
   "execution_count": 39,
   "id": "706dd9e3-e445-4c6f-ad7a-37c33853cc2c",
   "metadata": {
    "slideshow": {
     "slide_type": "subslide"
    },
    "tags": []
   },
   "outputs": [],
   "source": [
    "# Answer incorrectly every 9 repetitions\n",
    "def learner_that_forgets_periodically(reps):\n",
    "    return int(reps % 9 == 0)"
   ]
  },
  {
   "cell_type": "code",
   "execution_count": 41,
   "id": "79d8825a-dda8-4703-893c-7e851fd5b2da",
   "metadata": {
    "slideshow": {
     "slide_type": "skip"
    },
    "tags": []
   },
   "outputs": [
    {
     "name": "stdout",
     "output_type": "stream",
     "text": [
      "Item is learning\n",
      "Item was correct\n",
      "Item moved to next learning step\n",
      "Item is learning\n",
      "Item was correct\n",
      "Item moved to next learning step\n",
      "Item is learning\n",
      "Item was correct\n",
      "Item moved to next learning step\n",
      "Item is learning\n",
      "Item was correct\n",
      "Item moved to next learning step\n",
      "Item is learning\n",
      "Item was correct\n",
      "Item moved to next learning step\n",
      "Item is learning\n",
      "Item was correct\n",
      "Item graduated\n",
      "Item is reviewing\n",
      "SM-2 quality of 5\n",
      "Updating ease factor\n",
      "Item is reviewing\n",
      "SM-2 quality of 5\n",
      "Updating ease factor\n",
      "Item is reviewing\n",
      "SM-2 quality of 2.0\n",
      "SM-2 q < 3, resetting learning step\n",
      "Updating ease factor\n",
      "Item is learning\n",
      "Item was correct\n",
      "Item moved to next learning step\n",
      "Item is learning\n",
      "Item was correct\n",
      "Item moved to next learning step\n",
      "Item is learning\n",
      "Item was correct\n",
      "Item moved to next learning step\n",
      "Item is learning\n",
      "Item was correct\n",
      "Item moved to next learning step\n",
      "Item is learning\n",
      "Item was correct\n",
      "Item moved to next learning step\n",
      "Item is learning\n",
      "Item was correct\n",
      "Item graduated\n",
      "Item is reviewing\n",
      "SM-2 quality of 5\n",
      "Updating ease factor\n",
      "Item is reviewing\n",
      "SM-2 quality of 5\n",
      "Updating ease factor\n",
      "Item is reviewing\n",
      "SM-2 quality of 2.0\n",
      "SM-2 q < 3, resetting learning step\n",
      "Updating ease factor\n",
      "Item is learning\n",
      "Item was correct\n",
      "Item moved to next learning step\n",
      "Item is learning\n",
      "Item was correct\n",
      "Item moved to next learning step\n",
      "Item is learning\n",
      "Item was correct\n",
      "Item moved to next learning step\n",
      "Item is learning\n",
      "Item was correct\n",
      "Item moved to next learning step\n",
      "Item is learning\n",
      "Item was correct\n",
      "Item moved to next learning step\n",
      "Item is learning\n",
      "Item was correct\n",
      "Item graduated\n",
      "Item is reviewing\n",
      "SM-2 quality of 5\n",
      "Updating ease factor\n",
      "Item is reviewing\n",
      "SM-2 quality of 5\n",
      "Updating ease factor\n",
      "Item is reviewing\n",
      "SM-2 quality of 2.0\n",
      "SM-2 q < 3, resetting learning step\n",
      "Updating ease factor\n",
      "Item is learning\n",
      "Item was correct\n",
      "Item moved to next learning step\n",
      "Item is learning\n",
      "Item was correct\n",
      "Item moved to next learning step\n",
      "Item is learning\n",
      "Item was correct\n",
      "Item moved to next learning step\n",
      "Item is learning\n",
      "Item was correct\n",
      "Item moved to next learning step\n",
      "Item is learning\n",
      "Item was correct\n",
      "Item moved to next learning step\n",
      "Item is learning\n",
      "Item was correct\n",
      "Item graduated\n",
      "Item is reviewing\n",
      "SM-2 quality of 5\n",
      "Updating ease factor\n",
      "Item is reviewing\n",
      "SM-2 quality of 5\n",
      "Updating ease factor\n",
      "Item is reviewing\n",
      "SM-2 quality of 2.0\n",
      "SM-2 q < 3, resetting learning step\n",
      "Updating ease factor\n",
      "Item is learning\n",
      "Item was correct\n",
      "Item moved to next learning step\n",
      "Item is learning\n",
      "Item was correct\n",
      "Item moved to next learning step\n",
      "Item is learning\n",
      "Item was correct\n",
      "Item moved to next learning step\n",
      "Item is learning\n",
      "Item was correct\n",
      "Item moved to next learning step\n",
      "Item is learning\n",
      "Item was correct\n",
      "Item moved to next learning step\n",
      "Item is learning\n",
      "Item was correct\n",
      "Item graduated\n",
      "Item is reviewing\n",
      "SM-2 quality of 5\n",
      "Updating ease factor\n",
      "Item is reviewing\n",
      "SM-2 quality of 5\n",
      "Updating ease factor\n",
      "Item is reviewing\n",
      "SM-2 quality of 2.0\n",
      "SM-2 q < 3, resetting learning step\n",
      "Updating ease factor\n",
      "Item is learning\n",
      "Item was correct\n",
      "Item moved to next learning step\n",
      "Item is learning\n",
      "Item was correct\n",
      "Item moved to next learning step\n",
      "Item is learning\n",
      "Item was correct\n",
      "Item moved to next learning step\n",
      "Item is learning\n",
      "Item was correct\n",
      "Item moved to next learning step\n",
      "Item is learning\n",
      "Item was correct\n",
      "Item moved to next learning step\n",
      "Item is learning\n",
      "Item was correct\n",
      "Item graduated\n",
      "Item is reviewing\n",
      "SM-2 quality of 5\n",
      "Updating ease factor\n",
      "Item is reviewing\n",
      "SM-2 quality of 5\n",
      "Updating ease factor\n",
      "Item is reviewing\n",
      "SM-2 quality of 2.0\n",
      "SM-2 q < 3, resetting learning step\n",
      "Updating ease factor\n",
      "Item is learning\n",
      "Item was correct\n",
      "Item moved to next learning step\n",
      "Item is learning\n",
      "Item was correct\n",
      "Item moved to next learning step\n",
      "Item is learning\n",
      "Item was correct\n",
      "Item moved to next learning step\n",
      "Item is learning\n",
      "Item was correct\n",
      "Item moved to next learning step\n",
      "Item is learning\n",
      "Item was correct\n",
      "Item moved to next learning step\n",
      "Item is learning\n",
      "Item was correct\n",
      "Item graduated\n",
      "Item is reviewing\n",
      "SM-2 quality of 5\n",
      "Updating ease factor\n",
      "Item is reviewing\n",
      "SM-2 quality of 5\n",
      "Updating ease factor\n",
      "Item is reviewing\n",
      "SM-2 quality of 2.0\n",
      "SM-2 q < 3, resetting learning step\n",
      "Updating ease factor\n",
      "Item is learning\n",
      "Item was correct\n",
      "Item moved to next learning step\n",
      "Item is learning\n",
      "Item was correct\n",
      "Item moved to next learning step\n",
      "Item is learning\n",
      "Item was correct\n",
      "Item moved to next learning step\n",
      "Item is learning\n",
      "Item was correct\n",
      "Item moved to next learning step\n",
      "Item is learning\n",
      "Item was correct\n",
      "Item moved to next learning step\n",
      "Item is learning\n",
      "Item was correct\n",
      "Item graduated\n",
      "Item is reviewing\n",
      "SM-2 quality of 5\n",
      "Updating ease factor\n"
     ]
    }
   ],
   "source": [
    "for i in range(n_reps):\n",
    "    interval = (\n",
    "        scheduler._calculate_interval(test_item)\n",
    "        / datetime.timedelta(hours=1)\n",
    "    )\n",
    "    intervals.append(interval)\n",
    "    states.append(test_item.state)\n",
    "    scheduler.review(test_item, learner_that_forgets_periodically(1 + i), 0)\n",
    "\n",
    "sns_df = pd.DataFrame.from_records([x, intervals, states]).T\n",
    "sns_df.columns = ['repetitions', 'interval (hours)', 'state']"
   ]
  },
  {
   "cell_type": "code",
   "execution_count": 42,
   "id": "d27e2328-d192-4371-ad2c-c021810bc786",
   "metadata": {
    "slideshow": {
     "slide_type": "subslide"
    },
    "tags": []
   },
   "outputs": [
    {
     "data": {
      "image/png": "[encoded data removed]",
      "text/plain": [
       "<Figure size 640x480 with 1 Axes>"
      ]
     },
     "metadata": {},
     "output_type": "display_data"
    }
   ],
   "source": [
    "bar = sns.barplot(\n",
    "    data=sns_df,\n",
    "    x='repetitions', y='interval (hours)',\n",
    "    hue='state'\n",
    ")\n",
    "_ = bar.set(yscale='log', xticklabels=[])\n",
    "sns.move_legend(bar, \"lower left\")"
   ]
  },
  {
   "cell_type": "markdown",
   "id": "7ebd1e2e-2af9-4028-8e89-92911f48548b",
   "metadata": {
    "slideshow": {
     "slide_type": "slide"
    },
    "tags": []
   },
   "source": [
    "# Application Server + Simulated DSP Demo"
   ]
  },
  {
   "cell_type": "code",
   "execution_count": null,
   "id": "8652cb24-2166-42d7-af47-bb999fef4ec0",
   "metadata": {
    "slideshow": {
     "slide_type": "skip"
    },
    "tags": []
   },
   "outputs": [],
   "source": []
  },
  {
   "cell_type": "code",
   "execution_count": null,
   "id": "938b8d03-4067-473b-9692-a787c92e1c8a",
   "metadata": {
    "slideshow": {
     "slide_type": "skip"
    },
    "tags": []
   },
   "outputs": [],
   "source": [
    "import datetime\n",
    "import heapq\n",
    "\n",
    "\n",
    "while len(reviewing_queue) > 0:\n",
    "    print(reviewing_queue)\n",
    "    now = datetime.datetime.now(datetime.timezone.utc)\n",
    "    # TODO: Time zone should match system time zone, conversion needed here\n",
    "    tomorrow = datetime.datetime(\n",
    "        year=now.year, month=now.month, day=now.day, tzinfo=datetime.timezone.utc\n",
    "    ) + datetime.timedelta(days=1)\n",
    "\n",
    "    next_item = heapq.heappop(reviewing_queue)\n",
    "    \n",
    "    note_distance: int\n",
    "    while True:\n",
    "        try:\n",
    "            print(\"Enter note distance: \")\n",
    "            note_distance = int(input())\n",
    "            break\n",
    "        except ValueError:\n",
    "            continue\n",
    "\n",
    "    scheduler.review(next_item.item, note_distance, 0)\n",
    "    \n",
    "    due_date = scheduler.get_due_date(user_collection, next_item.item)\n",
    "    if due_date < tomorrow:\n",
    "        next_item.due_date = due_date\n",
    "        heapq.heappush(reviewing_queue, next_item)"
   ]
  },
  {
   "cell_type": "code",
   "execution_count": 49,
   "id": "69721a47-d79b-4d93-acd0-e91ed3c63815",
   "metadata": {
    "slideshow": {
     "slide_type": "skip"
    },
    "tags": []
   },
   "outputs": [
    {
     "data": {
      "text/plain": [
       "'D₄'"
      ]
     },
     "execution_count": 49,
     "metadata": {},
     "output_type": "execute_result"
    }
   ],
   "source": []
  }
 ],
 "metadata": {
  "kernelspec": {
   "display_name": "Python 3 (ipykernel)",
   "language": "python",
   "name": "python3"
  },
  "language_info": {
   "codemirror_mode": {
    "name": "ipython",
    "version": 3
   },
   "file_extension": ".py",
   "mimetype": "text/x-python",
   "name": "python",
   "nbconvert_exporter": "python",
   "pygments_lexer": "ipython3",
   "version": "3.11.0"
  }
 },
 "nbformat": 4,
 "nbformat_minor": 5
}
